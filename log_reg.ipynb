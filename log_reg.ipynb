{
  "nbformat": 4,
  "nbformat_minor": 0,
  "metadata": {
    "colab": {
      "name": "log-reg.ipynb",
      "provenance": []
    },
    "kernelspec": {
      "name": "python3",
      "display_name": "Python 3"
    }
  },
  "cells": [
    {
      "cell_type": "code",
      "metadata": {
        "id": "dKGLZ8hgEIZL",
        "colab_type": "code",
        "colab": {}
      },
      "source": [
        "import pandas as pd\n",
        "import numpy as np\n",
        "import matplotlib.pyplot as plt\n",
        "%matplotlib inline\n",
        "import sklearn\n",
        "from sklearn import tree\n",
        "sklearn.__version__\n",
        "from sklearn.model_selection import train_test_split\n",
        "from sklearn.linear_model import LogisticRegression\n",
        "from sklearn.tree import DecisionTreeClassifier\n",
        "from sklearn.ensemble import RandomForestClassifier\n",
        "from sklearn.metrics import confusion_matrix\n",
        "from sklearn.metrics import classification_report"
      ],
      "execution_count": 1,
      "outputs": []
    },
    {
      "cell_type": "markdown",
      "metadata": {
        "id": "JrwA1i9e8-NR",
        "colab_type": "text"
      },
      "source": [
        ""
      ]
    },
    {
      "cell_type": "code",
      "metadata": {
        "id": "GhT_62sSEzO-",
        "colab_type": "code",
        "colab": {}
      },
      "source": [
        "#import dataset\n",
        "dataset = pd.read_csv('dataset.csv')"
      ],
      "execution_count": 2,
      "outputs": []
    },
    {
      "cell_type": "code",
      "metadata": {
        "id": "1M5yFRW2h98p",
        "colab_type": "code",
        "colab": {
          "base_uri": "https://localhost:8080/",
          "height": 204
        },
        "outputId": "918cadf8-cfd3-491e-8b87-bb96e3ab9102"
      },
      "source": [
        "dataset.head()"
      ],
      "execution_count": 3,
      "outputs": [
        {
          "output_type": "execute_result",
          "data": {
            "text/html": [
              "<div>\n",
              "<style scoped>\n",
              "    .dataframe tbody tr th:only-of-type {\n",
              "        vertical-align: middle;\n",
              "    }\n",
              "\n",
              "    .dataframe tbody tr th {\n",
              "        vertical-align: top;\n",
              "    }\n",
              "\n",
              "    .dataframe thead th {\n",
              "        text-align: right;\n",
              "    }\n",
              "</style>\n",
              "<table border=\"1\" class=\"dataframe\">\n",
              "  <thead>\n",
              "    <tr style=\"text-align: right;\">\n",
              "      <th></th>\n",
              "      <th>Age</th>\n",
              "      <th>BMI</th>\n",
              "      <th>Carbohydrate</th>\n",
              "      <th>Protein</th>\n",
              "      <th>Fat</th>\n",
              "      <th>Water Consumption</th>\n",
              "      <th>Foot Steps</th>\n",
              "      <th>Sleep Hours</th>\n",
              "      <th>Diabetes Pedigree Function</th>\n",
              "      <th>Output</th>\n",
              "    </tr>\n",
              "  </thead>\n",
              "  <tbody>\n",
              "    <tr>\n",
              "      <th>0</th>\n",
              "      <td>50</td>\n",
              "      <td>33.6</td>\n",
              "      <td>48</td>\n",
              "      <td>53</td>\n",
              "      <td>61</td>\n",
              "      <td>3</td>\n",
              "      <td>11992</td>\n",
              "      <td>8</td>\n",
              "      <td>0.627</td>\n",
              "      <td>1</td>\n",
              "    </tr>\n",
              "    <tr>\n",
              "      <th>1</th>\n",
              "      <td>31</td>\n",
              "      <td>26.6</td>\n",
              "      <td>61</td>\n",
              "      <td>55</td>\n",
              "      <td>71</td>\n",
              "      <td>2</td>\n",
              "      <td>8241</td>\n",
              "      <td>8</td>\n",
              "      <td>0.351</td>\n",
              "      <td>0</td>\n",
              "    </tr>\n",
              "    <tr>\n",
              "      <th>2</th>\n",
              "      <td>32</td>\n",
              "      <td>23.3</td>\n",
              "      <td>62</td>\n",
              "      <td>56</td>\n",
              "      <td>64</td>\n",
              "      <td>2</td>\n",
              "      <td>10276</td>\n",
              "      <td>7</td>\n",
              "      <td>0.672</td>\n",
              "      <td>1</td>\n",
              "    </tr>\n",
              "    <tr>\n",
              "      <th>3</th>\n",
              "      <td>21</td>\n",
              "      <td>28.1</td>\n",
              "      <td>52</td>\n",
              "      <td>53</td>\n",
              "      <td>75</td>\n",
              "      <td>2</td>\n",
              "      <td>7886</td>\n",
              "      <td>8</td>\n",
              "      <td>0.167</td>\n",
              "      <td>0</td>\n",
              "    </tr>\n",
              "    <tr>\n",
              "      <th>4</th>\n",
              "      <td>33</td>\n",
              "      <td>43.1</td>\n",
              "      <td>63</td>\n",
              "      <td>48</td>\n",
              "      <td>57</td>\n",
              "      <td>3</td>\n",
              "      <td>12336</td>\n",
              "      <td>8</td>\n",
              "      <td>2.288</td>\n",
              "      <td>1</td>\n",
              "    </tr>\n",
              "  </tbody>\n",
              "</table>\n",
              "</div>"
            ],
            "text/plain": [
              "   Age   BMI  Carbohydrate  ...  Sleep Hours  Diabetes Pedigree Function  Output\n",
              "0   50  33.6            48  ...            8                       0.627       1\n",
              "1   31  26.6            61  ...            8                       0.351       0\n",
              "2   32  23.3            62  ...            7                       0.672       1\n",
              "3   21  28.1            52  ...            8                       0.167       0\n",
              "4   33  43.1            63  ...            8                       2.288       1\n",
              "\n",
              "[5 rows x 10 columns]"
            ]
          },
          "metadata": {
            "tags": []
          },
          "execution_count": 3
        }
      ]
    },
    {
      "cell_type": "code",
      "metadata": {
        "id": "c_cm4XpaiHGL",
        "colab_type": "code",
        "colab": {
          "base_uri": "https://localhost:8080/",
          "height": 34
        },
        "outputId": "1a2ab0e7-98ae-4288-abe4-70f7683442dc"
      },
      "source": [
        "#indepedent and depedent features\n",
        "X = dataset.iloc[:, 0:9].values\n",
        "y = dataset.iloc[:, 9].values\n",
        "dataset.shape"
      ],
      "execution_count": 4,
      "outputs": [
        {
          "output_type": "execute_result",
          "data": {
            "text/plain": [
              "(757, 10)"
            ]
          },
          "metadata": {
            "tags": []
          },
          "execution_count": 4
        }
      ]
    },
    {
      "cell_type": "code",
      "metadata": {
        "id": "bzeSlKAFsbFK",
        "colab_type": "code",
        "colab": {
          "base_uri": "https://localhost:8080/",
          "height": 204
        },
        "outputId": "aa03c3f4-6975-4bf8-fcb4-5e06ce84aa63"
      },
      "source": [
        "#checking for missing values\n",
        "dataset.isnull().sum()"
      ],
      "execution_count": 5,
      "outputs": [
        {
          "output_type": "execute_result",
          "data": {
            "text/plain": [
              "Age                           0\n",
              "BMI                           0\n",
              "Carbohydrate                  0\n",
              "Protein                       0\n",
              "Fat                           0\n",
              "Water Consumption             0\n",
              "Foot Steps                    0\n",
              "Sleep Hours                   0\n",
              "Diabetes Pedigree Function    0\n",
              "Output                        0\n",
              "dtype: int64"
            ]
          },
          "metadata": {
            "tags": []
          },
          "execution_count": 5
        }
      ]
    },
    {
      "cell_type": "code",
      "metadata": {
        "id": "u4Fq7TH0IDmN",
        "colab_type": "code",
        "colab": {}
      },
      "source": [
        "#splitting the dataset into training and testing\n",
        "X_train,X_test,y_train,y_test = train_test_split(X,y, test_size = 0.25, random_state=0)"
      ],
      "execution_count": 6,
      "outputs": []
    },
    {
      "cell_type": "code",
      "metadata": {
        "id": "7WYcPznjJb73",
        "colab_type": "code",
        "colab": {}
      },
      "source": [
        "#feature scaling\n",
        "from sklearn.preprocessing import StandardScaler\n",
        "sc_X = StandardScaler()\n",
        "X_train = sc_X.fit_transform(X_train)\n",
        "X_test = sc_X.transform(X_test)\n"
      ],
      "execution_count": 7,
      "outputs": []
    },
    {
      "cell_type": "code",
      "metadata": {
        "id": "P6i4bdeZQElO",
        "colab_type": "code",
        "colab": {
          "base_uri": "https://localhost:8080/",
          "height": 34
        },
        "outputId": "f51e4c17-8e92-4a1f-d0f3-8795c8a4a057"
      },
      "source": [
        "#model fitting Logistic Regression\n",
        "classifier = LogisticRegression(random_state=0)\n",
        "classifier.fit(X_train,y_train)  "
      ],
      "execution_count": 8,
      "outputs": [
        {
          "output_type": "execute_result",
          "data": {
            "text/plain": [
              "LogisticRegression(random_state=0)"
            ]
          },
          "metadata": {
            "tags": []
          },
          "execution_count": 8
        }
      ]
    },
    {
      "cell_type": "code",
      "metadata": {
        "id": "NBBtNWyR3rhy",
        "colab_type": "code",
        "colab": {
          "base_uri": "https://localhost:8080/",
          "height": 170
        },
        "outputId": "2fb1e9ee-51dd-4941-be52-b01032de4330"
      },
      "source": [
        "#predicting value\n",
        "y_pred = classifier.predict(X_test)\n",
        "y_pred"
      ],
      "execution_count": 9,
      "outputs": [
        {
          "output_type": "execute_result",
          "data": {
            "text/plain": [
              "array([0, 0, 0, 0, 0, 1, 1, 0, 0, 1, 0, 1, 0, 0, 0, 1, 0, 0, 1, 0, 0, 0,\n",
              "       1, 0, 0, 0, 0, 0, 0, 0, 1, 0, 0, 0, 0, 1, 0, 0, 0, 1, 0, 0, 0, 0,\n",
              "       0, 0, 1, 1, 0, 0, 0, 1, 1, 0, 1, 0, 0, 0, 0, 0, 0, 0, 0, 0, 0, 1,\n",
              "       0, 0, 1, 0, 0, 0, 0, 0, 1, 1, 0, 0, 0, 0, 0, 1, 0, 0, 0, 0, 0, 1,\n",
              "       0, 0, 0, 0, 0, 0, 0, 0, 0, 0, 0, 0, 0, 1, 0, 0, 0, 0, 0, 0, 0, 0,\n",
              "       0, 0, 1, 0, 0, 1, 0, 0, 1, 0, 0, 0, 0, 0, 1, 1, 0, 0, 0, 0, 0, 1,\n",
              "       0, 0, 1, 0, 0, 1, 1, 0, 0, 1, 1, 1, 0, 0, 0, 0, 0, 1, 1, 1, 0, 0,\n",
              "       0, 1, 0, 0, 0, 0, 0, 1, 1, 0, 0, 0, 0, 0, 0, 1, 1, 0, 0, 0, 0, 0,\n",
              "       1, 0, 0, 0, 0, 1, 0, 0, 1, 0, 1, 1, 0, 0])"
            ]
          },
          "metadata": {
            "tags": []
          },
          "execution_count": 9
        }
      ]
    },
    {
      "cell_type": "code",
      "metadata": {
        "id": "jNYC15SV4ONk",
        "colab_type": "code",
        "colab": {
          "base_uri": "https://localhost:8080/",
          "height": 51
        },
        "outputId": "158bedbb-16ab-4210-da89-1cfe5ee6cce5"
      },
      "source": [
        "#confusion matrix\n",
        "from sklearn.metrics import confusion_matrix\n",
        "cm= confusion_matrix(y_test,y_pred)\n",
        "cm "
      ],
      "execution_count": 10,
      "outputs": [
        {
          "output_type": "execute_result",
          "data": {
            "text/plain": [
              "array([[104,  19],\n",
              "       [ 39,  28]])"
            ]
          },
          "metadata": {
            "tags": []
          },
          "execution_count": 10
        }
      ]
    },
    {
      "cell_type": "code",
      "metadata": {
        "id": "Rx9uv4LAtyGe",
        "colab_type": "code",
        "colab": {
          "base_uri": "https://localhost:8080/",
          "height": 170
        },
        "outputId": "2815613d-091a-413f-cebe-9cb3d7546caa"
      },
      "source": [
        "#Accuracy\n",
        "accuracy_report = classification_report(y_test,y_pred)\n",
        "print(accuracy_report)"
      ],
      "execution_count": 11,
      "outputs": [
        {
          "output_type": "stream",
          "text": [
            "              precision    recall  f1-score   support\n",
            "\n",
            "           0       0.73      0.85      0.78       123\n",
            "           1       0.60      0.42      0.49        67\n",
            "\n",
            "    accuracy                           0.69       190\n",
            "   macro avg       0.66      0.63      0.64       190\n",
            "weighted avg       0.68      0.69      0.68       190\n",
            "\n"
          ],
          "name": "stdout"
        }
      ]
    },
    {
      "cell_type": "code",
      "metadata": {
        "id": "egjWvuoPVcfl",
        "colab_type": "code",
        "colab": {
          "base_uri": "https://localhost:8080/",
          "height": 34
        },
        "outputId": "fee98b9e-c3eb-42c3-f71c-d82362f7e0df"
      },
      "source": [
        "#decision Tree\n",
        "dec_classifier = DecisionTreeClassifier(random_state=0)\n",
        "dec_classifier.fit(X_train,y_train)"
      ],
      "execution_count": 12,
      "outputs": [
        {
          "output_type": "execute_result",
          "data": {
            "text/plain": [
              "DecisionTreeClassifier(random_state=0)"
            ]
          },
          "metadata": {
            "tags": []
          },
          "execution_count": 12
        }
      ]
    },
    {
      "cell_type": "code",
      "metadata": {
        "id": "rVHViXkVVvAz",
        "colab_type": "code",
        "colab": {
          "base_uri": "https://localhost:8080/",
          "height": 170
        },
        "outputId": "de559c4a-1730-4d68-9710-978535916eaa"
      },
      "source": [
        "dec_classifier_predict = dec_classifier.predict(X_test)\n",
        "dec_classifier_predict"
      ],
      "execution_count": 13,
      "outputs": [
        {
          "output_type": "execute_result",
          "data": {
            "text/plain": [
              "array([1, 1, 1, 0, 0, 0, 0, 0, 0, 0, 0, 0, 0, 0, 1, 0, 0, 1, 0, 0, 0, 0,\n",
              "       1, 0, 0, 0, 0, 1, 0, 1, 0, 0, 1, 0, 0, 0, 1, 0, 0, 1, 0, 1, 0, 0,\n",
              "       0, 1, 0, 0, 0, 1, 1, 0, 1, 0, 1, 0, 0, 0, 0, 1, 1, 0, 0, 1, 0, 1,\n",
              "       0, 1, 1, 0, 1, 0, 0, 0, 1, 1, 0, 0, 1, 0, 0, 1, 0, 1, 1, 1, 0, 0,\n",
              "       0, 0, 0, 0, 0, 0, 0, 1, 1, 0, 0, 0, 0, 0, 0, 0, 0, 1, 0, 0, 0, 0,\n",
              "       0, 0, 0, 1, 0, 1, 1, 0, 0, 0, 1, 0, 0, 1, 0, 1, 0, 0, 0, 0, 0, 1,\n",
              "       1, 0, 0, 0, 0, 1, 1, 1, 0, 0, 1, 1, 1, 0, 0, 0, 0, 1, 1, 1, 1, 0,\n",
              "       0, 1, 0, 1, 0, 0, 0, 0, 0, 1, 0, 0, 0, 0, 0, 0, 0, 0, 1, 0, 1, 0,\n",
              "       1, 0, 0, 1, 0, 1, 0, 0, 0, 0, 0, 1, 0, 0])"
            ]
          },
          "metadata": {
            "tags": []
          },
          "execution_count": 13
        }
      ]
    },
    {
      "cell_type": "code",
      "metadata": {
        "id": "1nvmkez1WZLn",
        "colab_type": "code",
        "colab": {
          "base_uri": "https://localhost:8080/",
          "height": 51
        },
        "outputId": "6aea0adc-9744-4700-97d2-6e9ebc1d63ba"
      },
      "source": [
        "#confusion matrix for decision tree\n",
        "dec_classifier_cm = confusion_matrix(y_test,dec_classifier_predict)\n",
        "dec_classifier_cm"
      ],
      "execution_count": 14,
      "outputs": [
        {
          "output_type": "execute_result",
          "data": {
            "text/plain": [
              "array([[90, 33],\n",
              "       [39, 28]])"
            ]
          },
          "metadata": {
            "tags": []
          },
          "execution_count": 14
        }
      ]
    },
    {
      "cell_type": "code",
      "metadata": {
        "id": "NCn4KmrgWoYm",
        "colab_type": "code",
        "colab": {
          "base_uri": "https://localhost:8080/",
          "height": 170
        },
        "outputId": "3ce7b9dd-8635-4945-863f-9cd664cf3721"
      },
      "source": [
        "#classification report for decision tree model\n",
        "dec_classifier_report = classification_report(y_test,dec_classifier_predict)\n",
        "print(dec_classifier_report)"
      ],
      "execution_count": 15,
      "outputs": [
        {
          "output_type": "stream",
          "text": [
            "              precision    recall  f1-score   support\n",
            "\n",
            "           0       0.70      0.73      0.71       123\n",
            "           1       0.46      0.42      0.44        67\n",
            "\n",
            "    accuracy                           0.62       190\n",
            "   macro avg       0.58      0.57      0.58       190\n",
            "weighted avg       0.61      0.62      0.62       190\n",
            "\n"
          ],
          "name": "stdout"
        }
      ]
    },
    {
      "cell_type": "code",
      "metadata": {
        "id": "gv8WEAbsgKX4",
        "colab_type": "code",
        "colab": {
          "base_uri": "https://localhost:8080/",
          "height": 34
        },
        "outputId": "8fb4da5e-d195-4d50-de1b-78331e9c9ad4"
      },
      "source": [
        "ran_classifier = RandomForestClassifier(n_estimators=100,criterion='entropy',random_state=0)\n",
        "ran_classifier.fit(X_train,y_train)"
      ],
      "execution_count": 16,
      "outputs": [
        {
          "output_type": "execute_result",
          "data": {
            "text/plain": [
              "RandomForestClassifier(criterion='entropy', random_state=0)"
            ]
          },
          "metadata": {
            "tags": []
          },
          "execution_count": 16
        }
      ]
    },
    {
      "cell_type": "code",
      "metadata": {
        "id": "M_uW_kuggrtO",
        "colab_type": "code",
        "colab": {}
      },
      "source": [
        "ran_classifier_predict = ran_classifier.predict(X_test)"
      ],
      "execution_count": 17,
      "outputs": []
    },
    {
      "cell_type": "code",
      "metadata": {
        "id": "zjWZK29xgx8s",
        "colab_type": "code",
        "colab": {
          "base_uri": "https://localhost:8080/",
          "height": 51
        },
        "outputId": "680bcb67-c340-4445-ceb1-01aa6a660b98"
      },
      "source": [
        "#confusion Matrix for Random forest\n",
        "ran_classifier_cm = confusion_matrix(y_test,ran_classifier_predict)\n",
        "ran_classifier_cm"
      ],
      "execution_count": 18,
      "outputs": [
        {
          "output_type": "execute_result",
          "data": {
            "text/plain": [
              "array([[102,  21],\n",
              "       [ 40,  27]])"
            ]
          },
          "metadata": {
            "tags": []
          },
          "execution_count": 18
        }
      ]
    },
    {
      "cell_type": "code",
      "metadata": {
        "id": "ihhUi5oahCmu",
        "colab_type": "code",
        "colab": {
          "base_uri": "https://localhost:8080/",
          "height": 170
        },
        "outputId": "928ed39a-983f-462f-d7ba-8fefe40a2ff4"
      },
      "source": [
        "#classification report for random forest\n",
        "ran_classifier_report = classification_report(y_test,ran_classifier_predict)\n",
        "print(ran_classifier_report)"
      ],
      "execution_count": 19,
      "outputs": [
        {
          "output_type": "stream",
          "text": [
            "              precision    recall  f1-score   support\n",
            "\n",
            "           0       0.72      0.83      0.77       123\n",
            "           1       0.56      0.40      0.47        67\n",
            "\n",
            "    accuracy                           0.68       190\n",
            "   macro avg       0.64      0.62      0.62       190\n",
            "weighted avg       0.66      0.68      0.66       190\n",
            "\n"
          ],
          "name": "stdout"
        }
      ]
    },
    {
      "cell_type": "code",
      "metadata": {
        "id": "LjPPB_xC4ptp",
        "colab_type": "code",
        "colab": {}
      },
      "source": [
        "#Applying K fold cross validation\n",
        "from sklearn.model_selection import cross_val_score\n",
        "accuracy= cross_val_score(estimator = ran_classifier, X = X_train, y= y_train, cv = 50)"
      ],
      "execution_count": 20,
      "outputs": []
    },
    {
      "cell_type": "code",
      "metadata": {
        "id": "sUhcQhTRVN-2",
        "colab_type": "code",
        "colab": {
          "base_uri": "https://localhost:8080/",
          "height": 34
        },
        "outputId": "c991c3d2-d8e2-4df0-a334-59ba18633151"
      },
      "source": [
        "accuracy.mean()"
      ],
      "execution_count": 21,
      "outputs": [
        {
          "output_type": "execute_result",
          "data": {
            "text/plain": [
              "0.7001515151515152"
            ]
          },
          "metadata": {
            "tags": []
          },
          "execution_count": 21
        }
      ]
    },
    {
      "cell_type": "code",
      "metadata": {
        "id": "ez3eS6YiGUvr",
        "colab_type": "code",
        "colab": {
          "base_uri": "https://localhost:8080/",
          "height": 34
        },
        "outputId": "075b8b7a-a1a0-44e6-cc86-a94404e136c7"
      },
      "source": [
        "#----------------------------Predicting New values-----------------------# \n",
        "#Age : 51 | BMI : 35 | carbo : 40 | protein : 48 | fat : 50 | water consumpation in liters : 4 | footsteps : 8400 |\n",
        "#sleep hours : 7 | Diabetes Pedigree Function : 0.190\n",
        "new_prediction= classifier.predict(sc_X.transform(np.array([[51, 35, 40, 48, 50, 4, 8400 , 7, 0.190]])))\n",
        "new_prediction"
      ],
      "execution_count": 22,
      "outputs": [
        {
          "output_type": "execute_result",
          "data": {
            "text/plain": [
              "array([1])"
            ]
          },
          "metadata": {
            "tags": []
          },
          "execution_count": 22
        }
      ]
    }
  ]
}